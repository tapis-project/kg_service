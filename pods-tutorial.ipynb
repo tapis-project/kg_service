{
 "cells": [
  {
   "cell_type": "code",
   "execution_count": null,
   "metadata": {
    "tags": []
   },
   "outputs": [],
   "source": [
    "import os\n",
    "import time\n",
    "import json\n",
    "import pprint as pp\n",
    "import requests as r\n",
    "import datetime\n",
    "from getpass import getpass\n",
    "from tapipy.tapis import Tapis\n",
    "import pytz\n",
    "\n",
    "def show(res):\n",
    "    try:\n",
    "        pp.pprint(res.json())\n",
    "    except:\n",
    "        pp.pprint(res.text)"
   ]
  },
  {
   "cell_type": "code",
   "execution_count": null,
   "metadata": {},
   "outputs": [],
   "source": [
    "start = time.time()\n",
    "\n",
    "# Base URL for Tapis\n",
    "base_url = \"https://tacc.develop.tapis.io\"\n",
    "username = \"cgarcia\"\n",
    "\n",
    "# Get Tapis object if it isn't already created.\n",
    "try:\n",
    "    t\n",
    "    if t.base_url == base_url and t.username == username and t.access_token:\n",
    "        print(\"Tapis object already exists.\")\n",
    "        if t.access_token.expires_at < datetime.datetime.now(pytz.utc):\n",
    "            print(\"Existing Tapis token expired, getting new token.\")\n",
    "            raise\n",
    "    else:\n",
    "        print(\"Creating new Tapis object.\")\n",
    "        raise\n",
    "except:\n",
    "    try:\n",
    "        t = Tapis(base_url = base_url,\n",
    "                  username = username,\n",
    "                  password = getpass('password'))\n",
    "        t.get_tokens()\n",
    "    except Exception as e:\n",
    "        print(f\"\\nBROKEN! timeout: {time.time() - start}\\n\")\n",
    "        raise\n",
    "\n",
    "# V3 Headers\n",
    "header_dat = {\"X-Tapis-token\": t.access_token.access_token,\n",
    "              \"Content-Type\": \"application/json\"}\n",
    "\n",
    "# Service URL\n",
    "url = f\"{base_url}/v3\"                   # remote\n",
    "\n",
    "print(time.time() - start)\n",
    "print(f\"base_url: {base_url}\")\n",
    "print(f\"serv_url: {url}\")"
   ]
  },
  {
   "cell_type": "markdown",
   "metadata": {},
   "source": [
    "## Pods Tapipy"
   ]
  },
  {
   "cell_type": "code",
   "execution_count": null,
   "metadata": {},
   "outputs": [],
   "source": [
    "# Get all pods.\n",
    "t.pods.get_pods()"
   ]
  },
  {
   "cell_type": "code",
   "execution_count": null,
   "metadata": {},
   "outputs": [],
   "source": [
    "pod_id = \"mypodid\""
   ]
  },
  {
   "cell_type": "code",
   "execution_count": null,
   "metadata": {},
   "outputs": [],
   "source": [
    "# Create pods\n",
    "t.pods.create_pod(pod_id=pod_id, pod_template='template/neo4j', description='My neo4j pod')"
   ]
  },
  {
   "cell_type": "markdown",
   "metadata": {},
   "source": [
    "## Pods Requests"
   ]
  },
  {
   "cell_type": "code",
   "execution_count": null,
   "metadata": {},
   "outputs": [],
   "source": [
    "# Get all pods.\n",
    "get_actors = r.get(f'{url}/pods',\n",
    "                   headers=header_dat)\n",
    "show(get_actors)"
   ]
  },
  {
   "cell_type": "code",
   "execution_count": null,
   "metadata": {},
   "outputs": [],
   "source": [
    "pod_id = \"mypodid\""
   ]
  },
  {
   "cell_type": "code",
   "execution_count": null,
   "metadata": {},
   "outputs": [],
   "source": [
    "## Create a pod - Neo example\n",
    "neo = json.dumps({\"pod_id\": pod_id,\n",
    "                  \"pod_template\": \"template/neo4j\",\n",
    "                  \"description\": \"Test Neo pod\"})\n",
    "\n",
    "res = r.post(f'{url}/pods',\n",
    "             headers=header_dat,\n",
    "             data=neo)\n",
    "show(res)"
   ]
  },
  {
   "cell_type": "code",
   "execution_count": null,
   "metadata": {},
   "outputs": [],
   "source": [
    "# Get pod.\n",
    "get_actor = r.get(f\"{url}/pods/{pod_id}\",\n",
    "                  headers=header_dat)\n",
    "show(get_actor)"
   ]
  },
  {
   "cell_type": "code",
   "execution_count": null,
   "metadata": {},
   "outputs": [],
   "source": [
    "# Stop pod.\n",
    "get_actor = r.get(f\"{url}/pods/{pod_id}/stop\",\n",
    "                  headers=header_dat)\n",
    "show(get_actor)"
   ]
  },
  {
   "cell_type": "code",
   "execution_count": null,
   "metadata": {},
   "outputs": [],
   "source": [
    "# Start pod.\n",
    "get_actor = r.get(f\"{url}/pods/{pod_id}/start\",\n",
    "                  headers=header_dat)\n",
    "show(get_actor)"
   ]
  },
  {
   "cell_type": "code",
   "execution_count": null,
   "metadata": {},
   "outputs": [],
   "source": [
    "# Get pod logs\n",
    "get_actor = r.get(f\"{url}/pods/{pod_id}/logs\",\n",
    "                  headers=header_dat)\n",
    "show(get_actor)"
   ]
  },
  {
   "cell_type": "code",
   "execution_count": null,
   "metadata": {},
   "outputs": [],
   "source": [
    "# Get pod credentials\n",
    "get_actor = r.get(f\"{url}/pods/{pod_id}/credentials\",\n",
    "                  headers=header_dat)\n",
    "show(get_actor)"
   ]
  },
  {
   "cell_type": "code",
   "execution_count": null,
   "metadata": {},
   "outputs": [],
   "source": [
    "# Get pod permissions\n",
    "get_actor = r.get(f\"{url}/pods/{pod_id}/permissions\",\n",
    "                  headers=header_dat)\n",
    "show(get_actor)"
   ]
  },
  {
   "cell_type": "code",
   "execution_count": null,
   "metadata": {},
   "outputs": [],
   "source": [
    "# Set pod permissions\n",
    "get_actor = r.post(f\"{url}/pods/{pod_id}/permissions\",\n",
    "                  headers=header_dat)\n",
    "show(get_actor)"
   ]
  },
  {
   "cell_type": "code",
   "execution_count": null,
   "metadata": {},
   "outputs": [],
   "source": []
  },
  {
   "cell_type": "markdown",
   "metadata": {},
   "source": [
    "# Visual Analytics"
   ]
  },
  {
   "cell_type": "code",
   "execution_count": null,
   "metadata": {},
   "outputs": [],
   "source": [
    "## Create a pod - neo1\n",
    "res = r.post(f'{url}/pods',\n",
    "             headers=header_dat,\n",
    "             data=json.dumps({\"pod_id\": \"neo1\",\n",
    "                              \"pod_template\": \"template/neo4j\",\n",
    "                              \"description\": \"VisualAnalytics PPOD Data\"}))\n",
    "show(res)"
   ]
  },
  {
   "cell_type": "code",
   "execution_count": null,
   "metadata": {},
   "outputs": [],
   "source": [
    "## Create a pod - neo2\n",
    "res = r.post(f'{url}/pods',\n",
    "             headers=header_dat,\n",
    "             data=json.dumps({\"pod_id\": \"neo2\",\n",
    "                              \"pod_template\": \"template/neo4j\",\n",
    "                              \"description\": \"VisualAnalytics ColdChain Data\"}))\n",
    "show(res)"
   ]
  },
  {
   "cell_type": "code",
   "execution_count": null,
   "metadata": {},
   "outputs": [],
   "source": [
    "# Get neo1 credentials\n",
    "get_actor = r.get(f\"{url}/pods/neo1/credentials\",\n",
    "                  headers=header_dat)\n",
    "show(get_actor)"
   ]
  },
  {
   "cell_type": "code",
   "execution_count": null,
   "metadata": {},
   "outputs": [],
   "source": [
    "# Get neo2 credentials\n",
    "get_actor = r.get(f\"{url}/pods/neo2/credentials\",\n",
    "                  headers=header_dat)\n",
    "show(get_actor)"
   ]
  },
  {
   "cell_type": "code",
   "execution_count": null,
   "metadata": {},
   "outputs": [],
   "source": [
    "## Create a pod - vaapi\n",
    "res = r.post(f'{url}/pods',\n",
    "             headers=header_dat,\n",
    "             data=json.dumps({\"pod_id\": \"vaapi\",\n",
    "                              \"pod_template\": \"tuyamei/smartfoodshed-server\",\n",
    "                              \"description\": \"Just a test!\",\n",
    "                              # Fill in this next bit using info from calls to /credentials above\n",
    "                              \"environment_variables\": {\"db_url1\": \"bolt://neo1.pods.tacc.develop.tapis.io:443\",\n",
    "                                                        \"db_user1\": \"neo1\",\n",
    "                                                        \"db_password1\": \"FILL IN\",\n",
    "                                                        \"db_url2\": \"bolt://neo2.pods.tacc.develop.tapis.io:443\",\n",
    "                                                        \"db_user2\": \"neo2\",\n",
    "                                                        \"db_password2\": \"FILL IN\"}}))\n",
    "show(res)"
   ]
  }
 ],
 "metadata": {
  "kernelspec": {
   "display_name": "Python 3.10.4 64-bit ('3.10.4')",
   "language": "python",
   "name": "python3"
  },
  "language_info": {
   "codemirror_mode": {
    "name": "ipython",
    "version": 3
   },
   "file_extension": ".py",
   "mimetype": "text/x-python",
   "name": "python",
   "nbconvert_exporter": "python",
   "pygments_lexer": "ipython3",
   "version": "3.10.4"
  },
  "vscode": {
   "interpreter": {
    "hash": "3d377b28860e1c8fedce5482a1b6b37349777c888a4aa1422f10c202db757dc1"
   }
  }
 },
 "nbformat": 4,
 "nbformat_minor": 4
}
